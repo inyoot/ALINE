{
 "cells": [
  {
   "cell_type": "markdown",
   "metadata": {},
   "source": [
    "##### Homework 1 <!--modified from https://ocw.mit.edu/courses/mathematics/18-06sc-linear-algebra-fall-2011/-->\n",
    "###### Problem 1. Find a linear combination\n",
    "$$x_1 \\vec{w_1} + x_2\\vec{w_2} + x_3 \\vec{w_3}$$ that gives the zero vector: \n",
    "$$\n",
    " \\vec{w_1} = \\begin{bmatrix}1 \\\\ 2 \\\\ 3 \\end{bmatrix} ,\n",
    " \\vec{w_2} = \\begin{bmatrix}4 \\\\ 5 \\\\ 6 \\end{bmatrix} ,\n",
    " \\vec{w_3} = \\begin{bmatrix}7 \\\\ 8 \\\\ 9 \\end{bmatrix} .\n",
    "$$\n",
    "\n",
    "Those vectors are (independent)(dependent).\n",
    "\n",
    "The three vectors lie in a `_______` . The matrix W with those columns is not invertible."
   ]
  },
  {
   "cell_type": "code",
   "execution_count": 36,
   "metadata": {
    "collapsed": false
   },
   "outputs": [
    {
     "data": {
      "text/plain": [
       "array([[ 1.,  4.,  7.],\n",
       "       [ 2.,  5.,  8.],\n",
       "       [ 3.,  6.,  9.]])"
      ]
     },
     "execution_count": 36,
     "metadata": {},
     "output_type": "execute_result"
    }
   ],
   "source": [
    "import numpy as np\n",
    "W = np.array([[1.0, 4.0, 7.0], [2.0, 5.0, 8.0], [3.0, 6.0, 9.0]])\n",
    "W"
   ]
  },
  {
   "cell_type": "code",
   "execution_count": 37,
   "metadata": {
    "collapsed": false
   },
   "outputs": [
    {
     "data": {
      "text/plain": [
       "array([[ 1.,  0.,  0.],\n",
       "       [-2.,  1.,  0.],\n",
       "       [ 0.,  0.,  1.]])"
      ]
     },
     "execution_count": 37,
     "metadata": {},
     "output_type": "execute_result"
    }
   ],
   "source": [
    "E_1 = np.identity(3)\n",
    "E_1[1,0] = -2\n",
    "E_1"
   ]
  },
  {
   "cell_type": "code",
   "execution_count": 38,
   "metadata": {
    "collapsed": false
   },
   "outputs": [
    {
     "data": {
      "text/plain": [
       "array([[ 1.,  4.,  7.],\n",
       "       [ 0., -3., -6.],\n",
       "       [ 3.,  6.,  9.]])"
      ]
     },
     "execution_count": 38,
     "metadata": {},
     "output_type": "execute_result"
    }
   ],
   "source": [
    "U = E_1.dot(W)\n",
    "U"
   ]
  },
  {
   "cell_type": "code",
   "execution_count": 39,
   "metadata": {
    "collapsed": false
   },
   "outputs": [
    {
     "data": {
      "text/plain": [
       "array([[ 1.,  0.,  0.],\n",
       "       [ 0.,  1.,  0.],\n",
       "       [-3.,  0.,  1.]])"
      ]
     },
     "execution_count": 39,
     "metadata": {},
     "output_type": "execute_result"
    }
   ],
   "source": [
    "E_2 = np.identity(3)\n",
    "E_2[2,0] = -3\n",
    "E_2"
   ]
  },
  {
   "cell_type": "code",
   "execution_count": 40,
   "metadata": {
    "collapsed": false
   },
   "outputs": [
    {
     "data": {
      "text/plain": [
       "array([[  1.,   4.,   7.],\n",
       "       [  0.,  -3.,  -6.],\n",
       "       [  0.,  -6., -12.]])"
      ]
     },
     "execution_count": 40,
     "metadata": {},
     "output_type": "execute_result"
    }
   ],
   "source": [
    "U = E_2.dot(U)\n",
    "U"
   ]
  },
  {
   "cell_type": "markdown",
   "metadata": {},
   "source": [
    "We can see that the third row is twice of the second row or the second plane is  parallel to the third plane in row picture. In the columns pictures, we can see that $\\vec{w_1} -2 \\vec{w_2} + \\vec{w_3} = 0$. Thus, the vectors are _dependent_. They lie in a _plane_."
   ]
  },
  {
   "cell_type": "code",
   "execution_count": null,
   "metadata": {
    "collapsed": true
   },
   "outputs": [],
   "source": []
  },
  {
   "cell_type": "markdown",
   "metadata": {},
   "source": [
    "###### Problem 2. Multiply:\n",
    "\n",
    "$$\\begin{bmatrix} 1 & 2 & 0 \\\\ 2 & 0 & 3 \\\\ 4 & 1 & 1 \\end{bmatrix}\n",
    "\\begin{bmatrix}3 \\\\ -2 \\\\ 1 \\end{bmatrix}. $$\n"
   ]
  },
  {
   "cell_type": "code",
   "execution_count": 4,
   "metadata": {
    "collapsed": false
   },
   "outputs": [
    {
     "data": {
      "text/plain": [
       "matrix([[-1],\n",
       "        [ 9],\n",
       "        [-5]])"
      ]
     },
     "execution_count": 4,
     "metadata": {},
     "output_type": "execute_result"
    }
   ],
   "source": [
    "A = np.matrix('1 2 0; 2 0 3; 0 3 1')\n",
    "x = np.matrix('3; -2; 1')\n",
    "A*x"
   ]
  },
  {
   "cell_type": "markdown",
   "metadata": {},
   "source": [
    "###### Problem 3. Multiply:\n",
    "\n",
    "$$ \\begin{bmatrix}3 & -2 & 1 \\end{bmatrix} \\begin{bmatrix} 1 & 2 & 0 \\\\ 2 & 0 & 3 \\\\ 4 & 1 & 1 \\end{bmatrix}. $$\n"
   ]
  },
  {
   "cell_type": "code",
   "execution_count": 26,
   "metadata": {
    "collapsed": false
   },
   "outputs": [
    {
     "data": {
      "text/plain": [
       "matrix([[-1,  9, -5]])"
      ]
     },
     "execution_count": 26,
     "metadata": {},
     "output_type": "execute_result"
    }
   ],
   "source": [
    "A = np.matrix('1 2 0; 2 0 3; 0 3 1')\n",
    "x = np.matrix('3; -2; 1')\n",
    "x.T * A"
   ]
  },
  {
   "cell_type": "markdown",
   "metadata": {},
   "source": [
    "###### Problem 4. True or False:\n",
    "A 3 by 2 matrix $A$ times a 2 by 3 matrix $B$ equals a 3 by 3 matrix $AB$. If this is false, write a similar sentence which is correct."
   ]
  },
  {
   "cell_type": "code",
   "execution_count": 27,
   "metadata": {
    "collapsed": false
   },
   "outputs": [
    {
     "data": {
      "text/plain": [
       "True"
      ]
     },
     "execution_count": 27,
     "metadata": {},
     "output_type": "execute_result"
    }
   ],
   "source": [
    "True"
   ]
  },
  {
   "cell_type": "markdown",
   "metadata": {},
   "source": [
    "###### Problem 5.\n",
    "In the two-by-two system of linear equations below, what multiple of the ﬁrst equation should be subtracted from the second equation when using the method of elimination? Convert this system of equations to matrix form, apply elimination (what are the pivots?), and use back substitution to ﬁnd a solution. Try to check your work before looking up the answer.\n",
    "$$\n",
    "\\begin{align} \n",
    "2x + 3y &= 0 \\\\\n",
    "6x + 15y &= 12 \n",
    "\\end{align}\n",
    "$$"
   ]
  },
  {
   "cell_type": "code",
   "execution_count": 41,
   "metadata": {
    "collapsed": false
   },
   "outputs": [
    {
     "data": {
      "text/plain": [
       "matrix([[ 2,  3],\n",
       "        [ 6, 15]])"
      ]
     },
     "execution_count": 41,
     "metadata": {},
     "output_type": "execute_result"
    }
   ],
   "source": [
    "W = np.matrix('2 3; 6 15')\n",
    "W"
   ]
  },
  {
   "cell_type": "markdown",
   "metadata": {},
   "source": [
    "###### Problem 6.\n",
    "What matrix $E$ puts $A$ into triangular form $EA = U$? Multiply by $E^{−1}= L$ to factor $A$ into $LU$. \n",
    "\n",
    "$$A = \\begin{bmatrix} 1 & 3 & 0 \\\\ 2 & 4 & 0 \\\\ 2 & 0 & 1 \\end{bmatrix}. $$\n"
   ]
  },
  {
   "cell_type": "code",
   "execution_count": 66,
   "metadata": {
    "collapsed": false
   },
   "outputs": [
    {
     "data": {
      "text/plain": [
       "matrix([[1, 3, 0],\n",
       "        [2, 4, 0],\n",
       "        [2, 0, 1]])"
      ]
     },
     "execution_count": 66,
     "metadata": {},
     "output_type": "execute_result"
    }
   ],
   "source": [
    "A = np.matrix('1 3 0; 2 4 0; 2 0 1')\n",
    "A"
   ]
  },
  {
   "cell_type": "code",
   "execution_count": 67,
   "metadata": {
    "collapsed": false
   },
   "outputs": [
    {
     "data": {
      "text/plain": [
       "matrix([[ 1.,  3.,  0.],\n",
       "        [ 0., -2.,  0.],\n",
       "        [ 2.,  0.,  1.]])"
      ]
     },
     "execution_count": 67,
     "metadata": {},
     "output_type": "execute_result"
    }
   ],
   "source": [
    "E_1 = np.identity(3)\n",
    "E_1[1,0] = -2 \n",
    "U = E_1 * A\n",
    "U"
   ]
  },
  {
   "cell_type": "code",
   "execution_count": 68,
   "metadata": {
    "collapsed": false
   },
   "outputs": [
    {
     "data": {
      "text/plain": [
       "matrix([[ 1.,  3.,  0.],\n",
       "        [ 0., -2.,  0.],\n",
       "        [ 0., -6.,  1.]])"
      ]
     },
     "execution_count": 68,
     "metadata": {},
     "output_type": "execute_result"
    }
   ],
   "source": [
    "E_2 = np.identity(3)\n",
    "E_2[2,0] = -2 \n",
    "U = E_2 * A\n",
    "U"
   ]
  },
  {
   "cell_type": "code",
   "execution_count": 69,
   "metadata": {
    "collapsed": false
   },
   "outputs": [
    {
     "data": {
      "text/plain": [
       "matrix([[ 1.,  3.,  0.],\n",
       "        [ 0., -2.,  0.],\n",
       "        [ 0.,  0.,  1.]])"
      ]
     },
     "execution_count": 69,
     "metadata": {},
     "output_type": "execute_result"
    }
   ],
   "source": [
    "E_3 = np.identity(3)\n",
    "E_3[2,1] = -3 \n",
    "U = E_3 * A\n",
    "U"
   ]
  },
  {
   "cell_type": "code",
   "execution_count": 70,
   "metadata": {
    "collapsed": false
   },
   "outputs": [
    {
     "data": {
      "text/plain": [
       "array([[ 1.,  0.,  0.],\n",
       "       [-2.,  1.,  0.],\n",
       "       [ 0.,  0.,  1.]])"
      ]
     },
     "execution_count": 70,
     "metadata": {},
     "output_type": "execute_result"
    }
   ],
   "source": [
    "E_1"
   ]
  },
  {
   "cell_type": "code",
   "execution_count": 71,
   "metadata": {
    "collapsed": false
   },
   "outputs": [
    {
     "data": {
      "text/plain": [
       "array([[ 1.,  0.,  0.],\n",
       "       [ 0.,  1.,  0.],\n",
       "       [-2.,  0.,  1.]])"
      ]
     },
     "execution_count": 71,
     "metadata": {},
     "output_type": "execute_result"
    }
   ],
   "source": [
    "E_2"
   ]
  },
  {
   "cell_type": "code",
   "execution_count": 72,
   "metadata": {
    "collapsed": false
   },
   "outputs": [
    {
     "data": {
      "text/plain": [
       "array([[ 1.,  0.,  0.],\n",
       "       [ 0.,  1.,  0.],\n",
       "       [ 0., -3.,  1.]])"
      ]
     },
     "execution_count": 72,
     "metadata": {},
     "output_type": "execute_result"
    }
   ],
   "source": [
    "E_3"
   ]
  },
  {
   "cell_type": "code",
   "execution_count": 80,
   "metadata": {
    "collapsed": false
   },
   "outputs": [
    {
     "data": {
      "text/plain": [
       "-0.0"
      ]
     },
     "execution_count": 80,
     "metadata": {},
     "output_type": "execute_result"
    }
   ],
   "source": [
    "E = E_1 * E_2 * E_3\n",
    "E[1,0]"
   ]
  },
  {
   "cell_type": "code",
   "execution_count": 77,
   "metadata": {
    "collapsed": false
   },
   "outputs": [
    {
     "data": {
      "text/plain": [
       "matrix([[ 1.,  3.,  0.],\n",
       "        [ 0., -2.,  0.],\n",
       "        [ 0.,  0.,  1.]])"
      ]
     },
     "execution_count": 77,
     "metadata": {},
     "output_type": "execute_result"
    }
   ],
   "source": [
    "A * E"
   ]
  },
  {
   "cell_type": "markdown",
   "metadata": {},
   "source": [
    "###### Problem 7.\n",
    "Three planes can fail to have an intersection point,\n",
    "even if no planes are parallel. The system is singular if row 3 of A is a `_______` of the ﬁrst two rows. Find a third equation that can’t be solved together with\n",
    "$x + y + z = 0$ and $x - 2y - z = 1$"
   ]
  },
  {
   "cell_type": "markdown",
   "metadata": {
    "collapsed": true
   },
   "source": [
    "###### Answer for Problem 7.\n",
    "The system is singular if row 3 of A is a _linear combination_ of the first two rows. There are infinitely many possible solution for example 3 * 1st eq - 2nd $2x + 5y - 4z = 1$"
   ]
  },
  {
   "cell_type": "code",
   "execution_count": 56,
   "metadata": {
    "collapsed": false
   },
   "outputs": [
    {
     "data": {
      "image/png": "[encoded data removed]",
      "text/plain": [
       "<matplotlib.figure.Figure at 0xac36dd8>"
      ]
     },
     "metadata": {},
     "output_type": "display_data"
    }
   ],
   "source": [
    "#surface plot\n",
    "from mpl_toolkits.mplot3d import Axes3D\n",
    "import matplotlib.pyplot as plt\n",
    "from matplotlib import cm\n",
    "from matplotlib.ticker import LinearLocator, FormatStrFormatter\n",
    "import numpy as np\n",
    "\n",
    "\n",
    "fig = plt.figure()\n",
    "ax = fig.gca(projection='3d')\n",
    "\n",
    "# Make data.\n",
    "X = np.arange(-5, 5, 0.25)\n",
    "Y = np.arange(-5, 5, 0.25)\n",
    "X, Y = np.meshgrid(X, Y)\n",
    "Z = -X + -Y\n",
    "Z1 = X - 2*Y -1\n",
    "Z2 = 0.5*X + (5/4.0) * Y + 0.25\n",
    "# Plot the surface.\n",
    "ax.plot_wireframe(X, Y, Z, rstride=3, cstride=3, color = \"blue\")\n",
    "ax.plot_wireframe(X, Y, Z1, rstride=3, cstride=3, color = \"red\")\n",
    "ax.plot_wireframe(X, Y, Z2, rstride=3, cstride=3, color = \"green\")\n",
    "\n",
    "plt.show()"
   ]
  },
  {
   "cell_type": "markdown",
   "metadata": {},
   "source": [
    "###### Problem 8. Multiply:\n",
    "\n",
    "$$\\begin{bmatrix} 1 & 2 & 3 & 4\\\\ 5 & 6 & 7 & 8\\\\ 9 & 10 & 11 & 12\\\\ 13 & 14 & 15 & 16 \\end{bmatrix}\n",
    "\\begin{bmatrix} 17 & 18 & 19 & 20\\\\ 21 & 22 & 23 & 24\\\\ 25 & 26 & 27 & 28\\\\ 29 & 30 & 31 & 32 \\end{bmatrix}\n",
    "$$"
   ]
  },
  {
   "cell_type": "code",
   "execution_count": 36,
   "metadata": {
    "collapsed": false
   },
   "outputs": [
    {
     "data": {
      "text/plain": [
       "matrix([[ 250,  260,  270,  280],\n",
       "        [ 618,  644,  670,  696],\n",
       "        [ 986, 1028, 1070, 1112],\n",
       "        [1354, 1412, 1470, 1528]])"
      ]
     },
     "execution_count": 36,
     "metadata": {},
     "output_type": "execute_result"
    }
   ],
   "source": [
    "A = np.matrix(np.arange(1,17).reshape((4,4)))\n",
    "B = np.matrix(np.arange(17,33).reshape((4,4)))\n",
    "A*B"
   ]
  },
  {
   "cell_type": "markdown",
   "metadata": {},
   "source": [
    "###### Problem 9. \n",
    "Use elimination to reach upper triangular matrices U. Solve by back substitution or explain why this is impossible. What are the pivots (never zero)? Exchange equations when necessary using permutation matrix. The only difference is the $-x$ in the equation (3).\n",
    "$$\n",
    "\\begin{align} \n",
    "x + y + z &= 7 &x + y + z &= 7 \\\\\n",
    "x + y - z &= 5 &x + y + -z &= 5\\\\ \n",
    "x - y + z &= 3 &-x - y + z &= 3\n",
    "\\end{align}\n",
    "$$\n"
   ]
  },
  {
   "cell_type": "code",
   "execution_count": null,
   "metadata": {
    "collapsed": true
   },
   "outputs": [],
   "source": []
  },
  {
   "cell_type": "markdown",
   "metadata": {},
   "source": [
    "###### Problem 10. \n",
    "![Clock vector](./img/clock_vector.png)\n",
    "- What is the sum $\\vec{V}$ of the twelve vectors that go from the center of a clock to the hours 1:00, 2:00, ..., 12:00?\n",
    "- If the vector to 4:00 is removed, find the sum of the eleven remaining vectors\n",
    "- What is the unit vector to 1:00?\n"
   ]
  },
  {
   "cell_type": "code",
   "execution_count": null,
   "metadata": {
    "collapsed": true
   },
   "outputs": [],
   "source": []
  }
 ],
 "metadata": {
  "anaconda-cloud": {},
  "kernelspec": {
   "display_name": "Python [conda root]",
   "language": "python",
   "name": "conda-root-py"
  },
  "language_info": {
   "codemirror_mode": {
    "name": "ipython",
    "version": 2
   },
   "file_extension": ".py",
   "mimetype": "text/x-python",
   "name": "python",
   "nbconvert_exporter": "python",
   "pygments_lexer": "ipython2",
   "version": "2.7.12"
  }
 },
 "nbformat": 4,
 "nbformat_minor": 1
}

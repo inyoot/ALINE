{
 "cells": [
  {
   "cell_type": "markdown",
   "metadata": {},
   "source": [
    "##### Homework 1 <!--modified from https://ocw.mit.edu/courses/mathematics/18-06sc-linear-algebra-fall-2011/-->\n",
    "###### Problem 1. Find a linear combination\n",
    "$$x_1 \\vec{w_1} + x_2\\vec{w_2} + x_3 \\vec{w_3}$$ that gives the zero vector: \n",
    "$$\n",
    " \\vec{w_1} = \\begin{bmatrix}1 \\\\ 2 \\\\ 3 \\end{bmatrix} ,\n",
    " \\vec{w_2} = \\begin{bmatrix}4 \\\\ 5 \\\\ 6 \\end{bmatrix} ,\n",
    " \\vec{w_3} = \\begin{bmatrix}7 \\\\ 8 \\\\ 9 \\end{bmatrix} .\n",
    "$$\n",
    "\n",
    "Those vectors are (independent)(dependent).\n",
    "\n",
    "The three vectors lie in a `_______` . The matrix W with those columns is not invertible."
   ]
  },
  {
   "cell_type": "code",
   "execution_count": null,
   "metadata": {
    "collapsed": true
   },
   "outputs": [],
   "source": []
  },
  {
   "cell_type": "markdown",
   "metadata": {},
   "source": [
    "###### Problem 2. Multiply:\n",
    "\n",
    "$$\\begin{bmatrix} 1 & 2 & 0 \\\\ 2 & 0 & 3 \\\\ 4 & 1 & 1 \\end{bmatrix}\n",
    "\\begin{bmatrix}3 \\\\ -2 \\\\ 1 \\end{bmatrix}. $$\n"
   ]
  },
  {
   "cell_type": "code",
   "execution_count": null,
   "metadata": {
    "collapsed": true
   },
   "outputs": [],
   "source": []
  },
  {
   "cell_type": "markdown",
   "metadata": {},
   "source": [
    "###### Problem 3. Multiply:\n",
    "\n",
    "$$ \\begin{bmatrix}3 & -2 & 1 \\end{bmatrix} \\begin{bmatrix} 1 & 2 & 0 \\\\ 2 & 0 & 3 \\\\ 4 & 1 & 1 \\end{bmatrix}. $$\n"
   ]
  },
  {
   "cell_type": "code",
   "execution_count": null,
   "metadata": {
    "collapsed": true
   },
   "outputs": [],
   "source": []
  },
  {
   "cell_type": "markdown",
   "metadata": {},
   "source": [
    "###### Problem 4. True or False:\n",
    "A 3 by 2 matrix $A$ times a 2 by 3 matrix $B$ equals a 3 by 3 matrix $AB$. If this is false, write a similar sentence which is correct."
   ]
  },
  {
   "cell_type": "code",
   "execution_count": null,
   "metadata": {
    "collapsed": false
   },
   "outputs": [],
   "source": []
  },
  {
   "cell_type": "markdown",
   "metadata": {},
   "source": [
    "###### Problem 5.\n",
    "In the two-by-two system of linear equations below, what multiple of the ﬁrst equation should be subtracted from the second equation when using the method of elimination? Convert this system of equations to matrix form, apply elimination (what are the pivots?), and use back substitution to ﬁnd a solution. Try to check your work before looking up the answer.\n",
    "$$\n",
    "\\begin{align} \n",
    "2x + 3y &= 0 \\\\\n",
    "6x + 15y &= 12 \n",
    "\\end{align}\n",
    "$$"
   ]
  },
  {
   "cell_type": "code",
   "execution_count": null,
   "metadata": {
    "collapsed": true
   },
   "outputs": [],
   "source": []
  },
  {
   "cell_type": "markdown",
   "metadata": {},
   "source": [
    "###### Problem 6.\n",
    "What matrix $E$ puts $A$ into triangular form $EA = U$? Multiply by $E^{−1}= L$ to factor $A$ into $LU$. \n",
    "\n",
    "$$A = \\begin{bmatrix} 1 & 3 & 0 \\\\ 2 & 4 & 0 \\\\ 2 & 0 & 1 \\end{bmatrix}. $$\n"
   ]
  },
  {
   "cell_type": "code",
   "execution_count": null,
   "metadata": {
    "collapsed": true
   },
   "outputs": [],
   "source": []
  },
  {
   "cell_type": "markdown",
   "metadata": {},
   "source": [
    "###### Problem 7.\n",
    "Three planes can fail to have an intersection point,\n",
    "even if no planes are parallel. The system is singular if row 3 of A is a `_______` of the ﬁrst two rows. Find a third equation that can’t be solved together with\n",
    "$x + y + z = 0$ and $x - 2y - z = 1$"
   ]
  },
  {
   "cell_type": "code",
   "execution_count": null,
   "metadata": {
    "collapsed": true
   },
   "outputs": [],
   "source": []
  },
  {
   "cell_type": "markdown",
   "metadata": {},
   "source": [
    "###### Problem 8. Multiply:\n",
    "\n",
    "$$\\begin{bmatrix} 1 & 2 & 3 & 4\\\\ 5 & 6 & 7 & 8\\\\ 9 & 10 & 11 & 12\\\\ 13 & 14 & 15 & 16 \\end{bmatrix}\n",
    "\\begin{bmatrix} 17 & 18 & 19 & 20\\\\ 21 & 22 & 23 & 24\\\\ 25 & 26 & 27 & 28\\\\ 29 & 30 & 31 & 32 \\end{bmatrix}\n",
    "$$"
   ]
  },
  {
   "cell_type": "code",
   "execution_count": null,
   "metadata": {
    "collapsed": true
   },
   "outputs": [],
   "source": []
  },
  {
   "cell_type": "markdown",
   "metadata": {},
   "source": [
    "###### Problem 9. \n",
    "Use elimination to reach upper triangular matrices U. Solve by back substitution or explain why this is impossible. What are the pivots (never zero)? Exchange equations when necessary using permutation matrix. The only difference is the $-x$ in the equation (3).\n",
    "$$\n",
    "\\begin{align} \n",
    "x + y + z &= 7 &x + y + z &= 7 \\\\\n",
    "x + y - z &= 5 &x + y + -z &= 5\\\\ \n",
    "x - y + z &= 3 &-x - y + z &= 3\n",
    "\\end{align}\n",
    "$$\n"
   ]
  },
  {
   "cell_type": "code",
   "execution_count": null,
   "metadata": {
    "collapsed": true
   },
   "outputs": [],
   "source": []
  },
  {
   "cell_type": "markdown",
   "metadata": {},
   "source": [
    "###### Problem 10. \n",
    "![Clock vector](./img/clock_vector.png)\n",
    "- What is the sum $\\vec{V}$ of the twelve vectors that go from the center of a clock to the hours 1:00, 2:00, ..., 12:00?\n",
    "- If the vector to 4:00 is removed, find the sum of the eleven remaining vectors\n",
    "- What is the unit vector to 1:00?\n"
   ]
  },
  {
   "cell_type": "code",
   "execution_count": null,
   "metadata": {
    "collapsed": true
   },
   "outputs": [],
   "source": []
  }
 ],
 "metadata": {
  "anaconda-cloud": {},
  "kernelspec": {
   "display_name": "Python [conda root]",
   "language": "python",
   "name": "conda-root-py"
  },
  "language_info": {
   "codemirror_mode": {
    "name": "ipython",
    "version": 2
   },
   "file_extension": ".py",
   "mimetype": "text/x-python",
   "name": "python",
   "nbconvert_exporter": "python",
   "pygments_lexer": "ipython2",
   "version": "2.7.12"
  }
 },
 "nbformat": 4,
 "nbformat_minor": 1
}

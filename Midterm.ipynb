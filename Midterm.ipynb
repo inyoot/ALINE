{
 "cells": [
  {
   "cell_type": "markdown",
   "metadata": {},
   "source": [
    "### MIDTERM LINEAR ALGEBRA A (DM 4209) <br />Wednesday, April 5th,2017 8:30 - 13:30 | Lecturer: Iwan Njoto Sandjaja\n",
    "###### Problem 1. (10): Can three vectors in the $xy$ plane have $u.v < 0$ and $u.w < 0$ and $v.w< 0$? What it means geometrically? If yes it can, give example!"
   ]
  },
  {
   "cell_type": "markdown",
   "metadata": {},
   "source": [
    "###### Problem 2. (20): Start with the vector $u_0 = (1, 0)$. Multiply again and again by the same “Markov matrix” $A = [.8$ $.3$; $.2$ $.7]$. The next three vectors are $u_1$, $u_2$, $u_3$:\n",
    "\n",
    "$$\n",
    "\\begin{align}\n",
    " u_1 = \\begin{bmatrix}{.8} & {.3} \\\\ {.2} & {.7} \\end{bmatrix} \\begin{bmatrix}1\\\\ 0 \\end{bmatrix} = \\begin{bmatrix}{.8}\\\\ {.2} \\end{bmatrix}\\text{, } & u_2 = Au_1 = \\text{______, } & u_3 = Au_2 = \\text{______.}\n",
    "\\end{align} \n",
    "$$\n",
    "\n",
    "What property do you notice for all four vectors $u_0$, $u_1$, $u_2$, $u_3$?"
   ]
  },
  {
   "cell_type": "code",
   "execution_count": 2,
   "metadata": {
    "collapsed": false
   },
   "outputs": [
    {
     "name": "stdout",
     "output_type": "stream",
     "text": [
      "[[ 0.8  0.3]\n",
      " [ 0.2  0.7]]\n"
     ]
    }
   ],
   "source": [
    "import numpy as np\n",
    "u1 = np.array([[.8,.3],[.2,.7]])\n",
    "print(u1)"
   ]
  },
  {
   "cell_type": "code",
   "execution_count": 5,
   "metadata": {
    "collapsed": false
   },
   "outputs": [
    {
     "name": "stdout",
     "output_type": "stream",
     "text": [
      "[[ 1.]\n",
      " [ 0.]]\n"
     ]
    }
   ],
   "source": [
    "v = np.array([[1.0],[0.0]])\n",
    "print(v)"
   ]
  },
  {
   "cell_type": "code",
   "execution_count": 6,
   "metadata": {
    "collapsed": false
   },
   "outputs": [
    {
     "name": "stdout",
     "output_type": "stream",
     "text": [
      "[[ 0.8]\n",
      " [ 0.2]]\n"
     ]
    }
   ],
   "source": [
    "r=u1.dot(v)\n",
    "print(r)"
   ]
  },
  {
   "cell_type": "code",
   "execution_count": 7,
   "metadata": {
    "collapsed": false
   },
   "outputs": [
    {
     "name": "stdout",
     "output_type": "stream",
     "text": [
      "[[ 0.7]\n",
      " [ 0.3]]\n"
     ]
    }
   ],
   "source": [
    "r1 = u1.dot(r)\n",
    "print(r1)"
   ]
  },
  {
   "cell_type": "code",
   "execution_count": 10,
   "metadata": {
    "collapsed": false
   },
   "outputs": [
    {
     "name": "stdout",
     "output_type": "stream",
     "text": [
      "[[ 0.65]\n",
      " [ 0.35]]\n"
     ]
    }
   ],
   "source": [
    "r2 = u1.dot(r1)\n",
    "print(r2)"
   ]
  },
  {
   "cell_type": "markdown",
   "metadata": {},
   "source": [
    "###### Problem 3. (20): Find the triangular matrix $E$ that reduces “Pascal’s matrix” to a smaller Pascal:\n",
    "$$\n",
    " E \\  \\begin{bmatrix}1 & 0 & 0 & 0 \\\\ 1 & 1 & 0 & 0 \\\\ 1 & 2 & 1 & 0 \\\\ 1 & 3 & 3 & 1 \\end{bmatrix} = \\begin{bmatrix}1 & 0 & 0 & 0 \\\\ 0 & 1 & 0 & 0 \\\\ 0 & 1 & 1 & 0 \\\\ 0 & 1 & 2 & 1 \\end{bmatrix} .\n",
    "$$\n",
    "\n",
    "Which matrix $M$ (multiplying several $E$’s) reduces Pascal all the way to $I$?"
   ]
  },
  {
   "cell_type": "markdown",
   "metadata": {},
   "source": [
    "###### Problem 4. (10): Suppose $A$ is $m$ by $n$, $B$ is $n$ by $p$, and $C$ is $p$ by $q$. Then the multiplication count for $(AB)C$ is $mnp$ + $mpq$. The multiplication count from $A$ times $BC$ with $mnq$ + $npq$ separate multiplications.\n",
    "\n",
    "- If $A$ is 2 by 4, $B$ is 4 by 7, and $C$ is 7 by 10, do you prefer $(AB)C$ or $A(BC)$?\n",
    "- With $N$-component vectors, would you choose $(u^T v)w^T$ or $u^T (vw^T )$?\n",
    "- Divide by $mnpq$ to show that $(AB)C$ is faster when $n^{-1} + q^{−1} < m^{−1} + p^{−1}$.\n"
   ]
  },
  {
   "cell_type": "markdown",
   "metadata": {},
   "source": [
    "###### Problem 5. (30): Find $A^{-1}, B^{-1}$ and $C^{-1}$  for:\n",
    "\n",
    "$$\n",
    "\\begin{align}\n",
    " A =\\begin{bmatrix}1 & a & b \\\\ 0 & 1 & c \\\\ 0 & 0 & 1 \\end{bmatrix}, \n",
    " B = \\begin{bmatrix}a & b & c \\\\ d & e & f \\\\ g & h & i \\end{bmatrix},  \n",
    " C = \\begin{bmatrix}1 & -a & 0 & 0 \\\\ 0 & 1 & -b & 0 \\\\ 0 & 0 & 1 & -c \\\\ 0 & 0 & 0 & 1\\end{bmatrix}. \n",
    " \\end{align}\n",
    "$$\n"
   ]
  },
  {
   "cell_type": "markdown",
   "metadata": {},
   "source": [
    "###### Problem 6. (20) Permutation Matrix \n",
    "(a) Find a 3 by 3 permutation matrix with $P^3 = I$ (but not $P = I$). <br/>(b) Find a 4 by 4 permutation $\\widehat{P}$ with $\\widehat{P}^4 \\neq I$."
   ]
  }
 ],
 "metadata": {
  "anaconda-cloud": {},
  "kernelspec": {
   "display_name": "Python [default]",
   "language": "python",
   "name": "python2"
  },
  "language_info": {
   "codemirror_mode": {
    "name": "ipython",
    "version": 2
   },
   "file_extension": ".py",
   "mimetype": "text/x-python",
   "name": "python",
   "nbconvert_exporter": "python",
   "pygments_lexer": "ipython2",
   "version": "2.7.12"
  }
 },
 "nbformat": 4,
 "nbformat_minor": 1
}

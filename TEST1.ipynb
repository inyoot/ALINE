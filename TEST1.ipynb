{
 "cells": [
  {
   "cell_type": "markdown",
   "metadata": {},
   "source": [
    "### TEST 1 LINEAR ALGEBRA A (DM 4209) | Thursday, 11:30 - 13:30 | Lecturer: Iwan Njoto Sandjaja\n",
    "###### Problem 1. Find the pivots and the solution for these four equations:\n",
    "\\begin{align} \n",
    "2x +  y &= 0 \\\\\n",
    " x + 2y +  z &= 0 \\\\\n",
    "      y + 2z +  t &= 0 \\\\\n",
    "           z + 2t &= 5 \\\\\n",
    "\\end{align}"
   ]
  },
  {
   "cell_type": "markdown",
   "metadata": {},
   "source": [
    "###### Problem 2. Decide whether the following systems are singular or nonsingular, and whether they have no solution, one solution, or infinitely many solution:\n",
    "\\begin{align} \n",
    "v-w &= 2 &v-w &= 0 &v + w &= 1 \\\\\n",
    "u-v &= 2 &u-v &= 0 &u + v &= 1 \\\\\n",
    "u-w &= 2 &u-w &= 0 &u + w &= 2 \\\\\n",
    "\\end{align}"
   ]
  },
  {
   "cell_type": "markdown",
   "metadata": {},
   "source": [
    "###### Problem 3. Which number $a$, $b$, $c$ lead to row exchanges? Which make the matrix singular?\n",
    "\n",
    "$$A = \\begin{bmatrix} 1 & 2 & 0 \\\\ a & 8 & 3 \\\\ 0 & b & 5 \\end{bmatrix} \\;and \\; \n",
    "A = \\begin{bmatrix} c & 2 \\\\ 6 & 4 \\end{bmatrix}\n",
    "$$"
   ]
  },
  {
   "cell_type": "markdown",
   "metadata": {},
   "source": [
    "###### Problem 4. Tridiagonal matrices have zeros entries except on the main diagonal and the two adjacent diagonals. Factor these into $A = LU$ and $A = LDV$:\n",
    "\n",
    "$$A = \\begin{bmatrix} a & a & 0 \\\\ a & a+b & b \\\\ 0 & b & b+c \\end{bmatrix}\n",
    "$$"
   ]
  },
  {
   "cell_type": "markdown",
   "metadata": {},
   "source": [
    "###### Problem 5. Compute $L$ and $U$ for the symmetric matrix\n",
    "\n",
    "$$A = \\begin{bmatrix} a & a & a & a \\\\ a & b & b & b \\\\ a & b & c & c \\\\ a & b & c & d\\end{bmatrix}\n",
    "$$"
   ]
  },
  {
   "cell_type": "markdown",
   "metadata": {},
   "source": [
    "###### Problem 6. Find the inverses (in any legal way) of\n",
    "\n",
    "$$A_1 = \\begin{bmatrix} 0 & 0 & 0 & 1 \\\\ 0 & 0 & 2 & 0 \\\\ 0 & 3 & 0 & 0 \\\\ 4 & 0 & 0 & 0\\end{bmatrix} , \\;\n",
    "A_2 = \\begin{bmatrix} 1 & 0 & 0 & 0 \\\\ {-\\frac{1}{2}} & 1 & 0 & 0 \\\\ 0 & {-\\frac{2}{3}} & 1 & 0 \\\\ 0 & 0 & {-\\frac{3}{4}} & 1\\end{bmatrix} , \\;\n",
    "A_3 = \\begin{bmatrix} a & b & 0 & 0 \\\\ c & d & 0 & 0 \\\\ 0 & 0 & a & b \\\\ 0 & 0 & c & d\\end{bmatrix} .\n",
    "$$"
   ]
  },
  {
   "cell_type": "markdown",
   "metadata": {},
   "source": [
    "###### Problem 7. The matrix has a remarkable inverse. Find $A^{-1}$ by elimination on $[A I]$. Extend to a 5 by 5 \"alternating matrix\" and guess its inverse:\n",
    "\n",
    "$$A = \\begin{bmatrix} 1 & {-1} & 1 & {-1} \\\\ 0 & 1 & {-1} & 1 \\\\ 0 & 0 & 1 & {-1} \\\\ 0 & 0 & 0 & 1\\end{bmatrix}\n",
    "$$"
   ]
  },
  {
   "cell_type": "markdown",
   "metadata": {},
   "source": [
    "###### Problem 8. Find and check the inverses (assuming they exist) of these block matrices:\n",
    "$$\n",
    "\\begin{bmatrix} I & 0 \\\\ C & I \\end{bmatrix} \n",
    "\\begin{bmatrix} A & 0 \\\\ C & D \\end{bmatrix} \n",
    "\\begin{bmatrix} 0 & I \\\\ I & D \\end{bmatrix} \n",
    "$$"
   ]
  },
  {
   "cell_type": "markdown",
   "metadata": {},
   "source": [
    "###### Problem 9. By experiment or the Gauss-Jordan method compute\n",
    "\n",
    "$$\n",
    "\\begin{bmatrix} 1 & 0 & 0 \\\\ 1 & 1 & 0 \\\\ m & 0 & 1\\end{bmatrix}^{n} \\;\\;\\;\\;\n",
    "\\begin{bmatrix} 1 & 0 & 0 \\\\ 1 & 1 & 0 \\\\ m & 0 & 1\\end{bmatrix}^{-1}\\;\\;\\;\\;\n",
    "\\begin{bmatrix} 1 & 0 & 0 \\\\ 1 & 1 & 0 \\\\ 0 & m & 1\\end{bmatrix}^{-1} $$\n"
   ]
  },
  {
   "cell_type": "markdown",
   "metadata": {},
   "source": [
    "###### Problem 10. Write down the 2 by 2 matrices that\n",
    "- Reverse the direction of every vector\n",
    "- Project every vector onto the $\\vec{x_2}$ axis\n",
    "- Turn every vector counterclockwise through $90^{\\circ}$\n",
    "- Reflect every vector through $45^{\\circ}$ line $\\vec{x_1} = \\vec{x_2}$"
   ]
  },
  {
   "cell_type": "markdown",
   "metadata": {},
   "source": [
    "###### BONUS: Light Outs Games\n",
    "Below is all of possible Light Outs moves in 4x4:\n",
    "$$\n",
    "\\begin{bmatrix} 1 & 1 \\\\ 1 & 0 \\end{bmatrix} \n",
    "\\begin{bmatrix} 1 & 1 \\\\ 0 & 1 \\end{bmatrix} \n",
    "\\begin{bmatrix} 1 & 0 \\\\ 1 & 1 \\end{bmatrix} \n",
    "\\begin{bmatrix} 0 & 1 \\\\ 1 & 1 \\end{bmatrix} \n",
    "$$\n",
    "\n",
    "And the solution is a linear combination of all possible moves in Galois Field.\n",
    "The question is for $nxn$ Light Outs, if we treat all possible moves as basis, do they span all the area? Explain in details!\n",
    "Light Outs game use Von Neumann neighborhood concept.\n",
    "$$\n",
    "\\begin{bmatrix} 0 & 1 & 0 \\\\ 1 & 1 & 1 \\\\ 0 & 1 & 0 \\end{bmatrix} \n",
    "$$\n",
    "\n",
    "If we change the neighborhood concept into Moore neighborhood or X neighborhood, do the linear combination of all possible moves in Galois Field span all the area of nxn Light Outs games?\n",
    "$$\n",
    "\\begin{bmatrix} 1 & 1 & 1 \\\\ 1 & 1 & 1 \\\\ 1 & 1 & 1 \\end{bmatrix} \n",
    "\\begin{bmatrix} 1 & 0 & 1 \\\\ 0 & 1 & 0 \\\\ 1 & 0 & 1 \\end{bmatrix} \n",
    "$$\n"
   ]
  }
 ],
 "metadata": {
  "anaconda-cloud": {},
  "kernelspec": {
   "display_name": "Python [conda root]",
   "language": "python",
   "name": "conda-root-py"
  },
  "language_info": {
   "codemirror_mode": {
    "name": "ipython",
    "version": 2
   },
   "file_extension": ".py",
   "mimetype": "text/x-python",
   "name": "python",
   "nbconvert_exporter": "python",
   "pygments_lexer": "ipython2",
   "version": "2.7.12"
  }
 },
 "nbformat": 4,
 "nbformat_minor": 1
}
